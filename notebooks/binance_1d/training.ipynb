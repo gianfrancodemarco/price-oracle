{
 "cells": [
  {
   "cell_type": "code",
   "execution_count": null,
   "metadata": {},
   "outputs": [],
   "source": [
    "import mlflow\n",
    "import os\n",
    "\n",
    "\n",
    "mlflow.set_tracking_uri('http://localhost:5000')\n",
    "oputna_dir = '../../optuna'"
   ]
  },
  {
   "cell_type": "markdown",
   "metadata": {},
   "source": [
    "### Train Model on single cripto"
   ]
  },
  {
   "cell_type": "markdown",
   "metadata": {},
   "source": [
    "#### Train Baseline Model"
   ]
  },
  {
   "cell_type": "code",
   "execution_count": null,
   "metadata": {},
   "outputs": [],
   "source": [
    "mlflow.set_experiment('Training_BASELINE')"
   ]
  },
  {
   "cell_type": "code",
   "execution_count": null,
   "metadata": {},
   "outputs": [],
   "source": [
    "from common import get_dataframe, register_training_experiment\n",
    "\n",
    "import pandas as pd\n",
    "\n",
    "df = get_dataframe()\n",
    "\n",
    "for coin in df.columns[1:]:\n",
    "    df_coin = pd.DataFrame({'Date': df['Date'], coin: df[coin]})\n",
    "    df_coin['lag1'] = df_coin[coin].shift(1)\n",
    "    df_coin.dropna(inplace=True)\n",
    "    \n",
    "    register_training_experiment(\n",
    "        data=df_coin[coin],\n",
    "        predictions=df_coin['lag1'],\n",
    "        model_name=\"BASELINE\",\n",
    "        coin=coin,\n",
    "        x_axis=df_coin['Date'])"
   ]
  },
  {
   "cell_type": "markdown",
   "metadata": {},
   "source": [
    "#### Train LSTM / RNN Model"
   ]
  },
  {
   "cell_type": "code",
   "execution_count": null,
   "metadata": {},
   "outputs": [],
   "source": [
    "mlflow.set_experiment('Training_LSTM_RNN')\n",
    "storage_name = f\"sqlite:///{os.path.join(oputna_dir, 'training.db')}\""
   ]
  },
  {
   "cell_type": "code",
   "execution_count": null,
   "metadata": {},
   "outputs": [],
   "source": [
    "import os\n",
    "\n",
    "import numpy as np\n",
    "from common import get_dataframe, evaluate_best_coin, objective\n",
    "\n",
    "import mlflow\n",
    "import optuna\n",
    "\n",
    "df = get_dataframe()\n",
    "\n",
    "\n",
    "for coin in df.iloc[:, 1:]:\n",
    "    data = np.array(df[coin]).reshape(-1, 1)\n",
    "\n",
    "    # Create an Optuna study\n",
    "    study_name = coin  # Unique identifier of the study.\n",
    "    \n",
    "    pruner = optuna.pruners.MedianPruner(n_startup_trials=5, n_warmup_steps=10)\n",
    "\n",
    "    study = optuna.create_study(study_name=coin, direction='minimize', storage=storage_name, pruner=pruner, load_if_exists=True)\n",
    "\n",
    "    # Start the optimization process\n",
    "    # study.optimize(lambda trial: objective(trial, data, coin), n_trials=100)\n",
    "\n",
    "    # Get the best hyperparameters\n",
    "    try:\n",
    "        best_params = study.best_params\n",
    "        print(\"Best Hyperparameters:\", best_params)\n",
    "        evaluate_best_coin(coin, data, best_params)\n",
    "    except ValueError:\n",
    "        print(\"No best hyperparameters found\")"
   ]
  },
  {
   "cell_type": "markdown",
   "metadata": {},
   "source": [
    "#### Train LSTM / RNN Model with SMA"
   ]
  },
  {
   "cell_type": "code",
   "execution_count": null,
   "metadata": {},
   "outputs": [],
   "source": [
    "mlflow.set_experiment('Training_LSTM_RNN_SMA')\n",
    "storage_name = f\"sqlite:///{os.path.join(oputna_dir, 'training_sma.db')}\""
   ]
  },
  {
   "cell_type": "code",
   "execution_count": null,
   "metadata": {},
   "outputs": [],
   "source": [
    "import os\n",
    "\n",
    "import numpy as np\n",
    "from common import get_dataframe, evaluate_best_coin, objective\n",
    "\n",
    "import optuna\n",
    "\n",
    "df = get_dataframe(add_sma_columns=True)\n",
    "criptos = df.filter(like='close', axis=1).columns\n",
    "output_shape = 1\n",
    "\n",
    "for cripto in criptos:\n",
    "\n",
    "    coin = cripto.split('_')[1]\n",
    "    cripto_data = df.filter(like=coin, axis=1)\n",
    "\n",
    "    data = np.array(cripto_data)\n",
    "\n",
    "    # Create an Optuna study\n",
    "    study_name = coin  # Unique identifier of the study.\n",
    "    pruner = optuna.pruners.MedianPruner(n_startup_trials=3, n_warmup_steps=10)\n",
    "    optuna.create_study(study_name=coin, direction='minimize', storage=storage_name, pruner=pruner, load_if_exists=True)\n",
    "\n",
    "    # Start the optimization process\n",
    "    # study.optimize(lambda trial: objective(trial, data, coin, output_shape), n_trials=100)\n",
    "\n",
    "    # Get the best hyperparameters\n",
    "    try:\n",
    "        best_params = study.best_params\n",
    "        print(\"Best Hyperparameters:\", best_params)\n",
    "        evaluate_best_coin(coin, data, best_params, output_shape)\n",
    "    except ValueError:\n",
    "        print(\"No best hyperparameters found\")"
   ]
  },
  {
   "cell_type": "markdown",
   "metadata": {},
   "source": [
    "### Train Model on cripto clusters"
   ]
  },
  {
   "cell_type": "markdown",
   "metadata": {},
   "source": [
    "#### Train LSTM / RNN Model"
   ]
  },
  {
   "cell_type": "code",
   "execution_count": null,
   "metadata": {},
   "outputs": [],
   "source": [
    "mlflow.set_experiment('Training_LSTM_RNN_Cluster')\n",
    "storage_name = f\"sqlite:///{os.path.join(oputna_dir, 'training_cluster.db')}\""
   ]
  },
  {
   "cell_type": "code",
   "execution_count": null,
   "metadata": {},
   "outputs": [],
   "source": [
    "import os\n",
    "import numpy as np\n",
    "from common import (evaluate_best_coin, get_clustered_dataframes, objective)\n",
    "import mlflow\n",
    "import optuna\n",
    "\n",
    "\n",
    "clusters_data = get_clustered_dataframes()\n",
    "\n",
    "for cluster, data in clusters_data.items():\n",
    "    print(f\"Cluster {cluster}\")\n",
    "    data = data.drop(columns=['Date'])\n",
    "    criptos = ','.join(data.columns)\n",
    "    data = np.array(data)\n",
    "\n",
    "    study_name = f\"Cluster_{cluster}\"  # Unique identifier of the study.\n",
    "    pruner = optuna.pruners.MedianPruner(n_startup_trials=5, n_warmup_steps=10)\n",
    "    study = optuna.create_study(study_name=study_name, direction='minimize', storage=storage_name, pruner=pruner, load_if_exists=True)\n",
    "\n",
    "    # Start the optimization process\n",
    "    # study.optimize(lambda trial: objective(trial, data, criptos), n_trials=100)\n",
    "\n",
    "    # Get the best hyperparameters\n",
    "    try:\n",
    "        best_params = study.best_params\n",
    "        print(\"Best Hyperparameters:\", best_params)\n",
    "        evaluate_best_coin(criptos, data, best_params)\n",
    "    except ValueError:\n",
    "        print(\"No best hyperparameters found\")"
   ]
  },
  {
   "cell_type": "markdown",
   "metadata": {},
   "source": [
    "#### Train LSTM / RNN Model with SMA"
   ]
  },
  {
   "cell_type": "code",
   "execution_count": null,
   "metadata": {},
   "outputs": [],
   "source": [
    "mlflow.set_experiment('Training_LSTM_RNN_Cluster_SMA')\n",
    "storage_name = f\"sqlite:///{os.path.join(oputna_dir, 'training_cluster_sma.db')}\""
   ]
  },
  {
   "cell_type": "code",
   "execution_count": null,
   "metadata": {},
   "outputs": [],
   "source": [
    "import numpy as np\n",
    "from common import get_clustered_dataframes, evaluate_best_coin, objective\n",
    "import optuna\n",
    "\n",
    "\n",
    "# Normalize the data to the range [0, 1] to help the LSTM model converge faster\n",
    "\n",
    "clusters_data = get_clustered_dataframes(add_sma_columns=True)\n",
    "\n",
    "for cluster, df in clusters_data.items():\n",
    "\n",
    "    print(f\"Cluster {cluster}\")\n",
    "    criptos = df.filter(like='close', axis=1).columns\n",
    "    output_shape = len(criptos)\n",
    "    criptos = ','.join([cripto.split(\"_\")[1] for cripto in criptos])\n",
    "\n",
    "    df = df.drop('Date', axis=1)\n",
    "    data = np.array(df)\n",
    "\n",
    "    pruner = optuna.pruners.MedianPruner(n_startup_trials=5, n_warmup_steps=10)\n",
    "    study = optuna.create_study(study_name=criptos, direction='minimize', storage=storage_name, pruner=pruner, load_if_exists=True)\n",
    "\n",
    "    # Start the optimization process\n",
    "    # study.optimize(lambda trial: objective(trial, data, criptos, output_shape), n_trials=100)\n",
    "\n",
    "    # Get the best hyperparameters\n",
    "    try:\n",
    "        best_params = study.best_params\n",
    "        print(\"Best Hyperparameters:\", best_params)\n",
    "        evaluate_best_coin(criptos, data, best_params, output_shape)\n",
    "    except ValueError:\n",
    "        print(\"No best hyperparameters found\")"
   ]
  },
  {
   "cell_type": "markdown",
   "metadata": {},
   "source": [
    "#### Train VAR"
   ]
  },
  {
   "cell_type": "code",
   "execution_count": null,
   "metadata": {},
   "outputs": [],
   "source": [
    "mlflow.set_experiment('Training_VAR')\n",
    "storage_name = f\"sqlite:///{os.path.join(oputna_dir, 'training_var.db')}\""
   ]
  },
  {
   "cell_type": "code",
   "execution_count": null,
   "metadata": {},
   "outputs": [],
   "source": [
    "import numpy as np\n",
    "from common import get_clustered_dataframes\n",
    "from common_var import evaluate_best_coin, objective\n",
    "import optuna\n",
    "\n",
    "\n",
    "# Normalize the data to the range [0, 1] to help the LSTM model converge faster\n",
    "\n",
    "clusters_data = get_clustered_dataframes()\n",
    "\n",
    "for cluster, data in clusters_data.items():\n",
    "\n",
    "    print(f\"Cluster {cluster}\")\n",
    "    criptos = data.filter(like='close', axis=1).columns\n",
    "    output_shape = len(criptos)\n",
    "    criptos = ','.join([cripto.split(\"_\")[1] for cripto in criptos])\n",
    "\n",
    "    pruner = optuna.pruners.MedianPruner(n_startup_trials=5, n_warmup_steps=10)\n",
    "    study = optuna.create_study(study_name=criptos, direction='minimize', storage=storage_name, pruner=pruner, load_if_exists=True)\n",
    "\n",
    "    # Start the optimization process\n",
    "    # study.optimize(lambda trial: objective(trial, data, criptos, output_shape), n_trials=100)\n",
    "\n",
    "    # Get the best hyperparameters\n",
    "    try:\n",
    "        best_params = study.best_params\n",
    "        print(\"Best Hyperparameters:\", best_params)\n",
    "        evaluate_best_coin(criptos, data, best_params, output_shape)\n",
    "    except ValueError:\n",
    "        print(\"No best hyperparameters found\")"
   ]
  }
 ],
 "metadata": {
  "kernelspec": {
   "display_name": "price-oracle",
   "language": "python",
   "name": "python3"
  },
  "language_info": {
   "codemirror_mode": {
    "name": "ipython",
    "version": 3
   },
   "file_extension": ".py",
   "mimetype": "text/x-python",
   "name": "python",
   "nbconvert_exporter": "python",
   "pygments_lexer": "ipython3",
   "version": "3.8.10"
  }
 },
 "nbformat": 4,
 "nbformat_minor": 2
}
